{
 "cells": [
  {
   "cell_type": "markdown",
   "metadata": {},
   "source": [
    "<h3>Q no 1:  Write a python program to find number of occurrences of given number in a list with out using built-in methods</h3>\n",
    "<h4>**1 generate a list of some random num which is repeated again and again</h4>\n",
    "<h4>**2 take user input any number</h4>\n",
    "<h4>**3 find the number of occurrences of that num in your list</h4>\n",
    "<h4>**4 print some message to user with that result</h4>"
   ]
  },
  {
   "cell_type": "code",
   "execution_count": 86,
   "metadata": {},
   "outputs": [],
   "source": [
    "random_list = [7,7,2,31,3,5,6,7,3,31,9,34]"
   ]
  },
  {
   "cell_type": "code",
   "execution_count": 90,
   "metadata": {},
   "outputs": [
    {
     "name": "stdout",
     "output_type": "stream",
     "text": [
      "Enter you number7\n"
     ]
    }
   ],
   "source": [
    "user_number = int(input(\"Enter you number\"))"
   ]
  },
  {
   "cell_type": "code",
   "execution_count": 91,
   "metadata": {},
   "outputs": [],
   "source": [
    "result_user = random_list.count(user_number)"
   ]
  },
  {
   "cell_type": "code",
   "execution_count": 92,
   "metadata": {},
   "outputs": [
    {
     "name": "stdout",
     "output_type": "stream",
     "text": [
      "This is number you enter  7 there is no of count in the list is  3\n"
     ]
    }
   ],
   "source": [
    "print(\"This is number you enter \" ,user_number, \"there is no of count in the list is \",result_user)"
   ]
  },
  {
   "cell_type": "markdown",
   "metadata": {},
   "source": [
    "<h3>Q no 2:   [\"www.zframez.com\", \"www.wikipedia.org\", \"www.asp.net\", \"www.abcd.in\"]\n",
    "<br/><br/><br/><br/><br/>\n",
    "Write a python program to print website suffixes (com , org , net ,in) from this list\n",
    "\n",
    "Hint : Use split() method to perform this task\n",
    "</h3>\n"
   ]
  },
  {
   "cell_type": "code",
   "execution_count": 93,
   "metadata": {},
   "outputs": [],
   "source": [
    "website_list = [\"www.zframez.com\", \"www.wikipedia.org\", \"www.asp.net\", \"www.abcd.in\"]"
   ]
  },
  {
   "cell_type": "code",
   "execution_count": 94,
   "metadata": {},
   "outputs": [
    {
     "name": "stdout",
     "output_type": "stream",
     "text": [
      "com\n",
      "org\n",
      "net\n",
      "in\n"
     ]
    }
   ],
   "source": [
    "for x in website_list :\n",
    "    suffix_website = x.split(\".\")[-1]\n",
    "    print(suffix_website)"
   ]
  },
  {
   "cell_type": "markdown",
   "metadata": {},
   "source": [
    "<h3> Q no 3 : Write a program which can compute the factorial of a given numbers.</h3>\n",
    "<br/>\n",
    "<br/>\n",
    "<h4>**1 first take user input any number</h4>\n",
    "<h4>**2 calculate factorial of that input and then print the result to user</h4>"
   ]
  },
  {
   "cell_type": "code",
   "execution_count": 95,
   "metadata": {},
   "outputs": [
    {
     "name": "stdout",
     "output_type": "stream",
     "text": [
      "Enter you number3\n"
     ]
    }
   ],
   "source": [
    "user_number = int(input(\"Enter you number\"))"
   ]
  },
  {
   "cell_type": "code",
   "execution_count": 96,
   "metadata": {},
   "outputs": [
    {
     "name": "stdout",
     "output_type": "stream",
     "text": [
      "factorial of  3  is  6\n"
     ]
    }
   ],
   "source": [
    "factorial = 1\n",
    "if(user_number < 0):\n",
    "    print(\"Sorry, factorial doesnot exist on negative number\")\n",
    "elif(user_number == 0):\n",
    "     result = 1\n",
    "     print(\"factorial of 0 is \",result)\n",
    "else:\n",
    "    for i in range(1,user_number+1):\n",
    "        factorial = factorial*i\n",
    "        result = factorial\n",
    "    print(\"factorial of \",user_number,\" is \",result)"
   ]
  },
  {
   "cell_type": "markdown",
   "metadata": {},
   "source": [
    "<h3>Q 4 (a) :  If you could invite anyone, living or deceased, to dinner, who\n",
    "would you invite? Make a list that includes at least three people you’d like to\n",
    "invite to dinner. Then use your list to print a message to each person, inviting\n",
    "them to dinner.</h3>"
   ]
  },
  {
   "cell_type": "code",
   "execution_count": 102,
   "metadata": {},
   "outputs": [],
   "source": [
    "invited_dinner_list = [\"Osama Friend\",\"Sir Zeeshan\",\"Noman Sir\",\"Sir Taha\",\"Sir Austin\",\"Sir Shariq\",\"Tuaha\",\"Sir Zia\"]"
   ]
  },
  {
   "cell_type": "code",
   "execution_count": 103,
   "metadata": {},
   "outputs": [
    {
     "name": "stdout",
     "output_type": "stream",
     "text": [
      "I am very happy if you come to my dinner party Mr. Osama Friend\n",
      "I am very happy if you come to my dinner party Mr. Sir Zeeshan\n",
      "I am very happy if you come to my dinner party Mr. Noman Sir\n",
      "I am very happy if you come to my dinner party Mr. Sir Taha\n",
      "I am very happy if you come to my dinner party Mr. Sir Austin\n",
      "I am very happy if you come to my dinner party Mr. Sir Shariq\n",
      "I am very happy if you come to my dinner party Mr. Tuaha\n",
      "I am very happy if you come to my dinner party Mr. Sir Zia\n"
     ]
    }
   ],
   "source": [
    "for invite in invited_dinner_list :\n",
    "    print(\"I am very happy if you come to my dinner party Mr.\",invite)"
   ]
  },
  {
   "cell_type": "markdown",
   "metadata": {},
   "source": [
    "<h3>Q 4 (b) : You just heard that one of your guests can’t make the\n",
    "dinner, so you need to send out a new set of invitations. You’ll have to think of\n",
    "someone else to invite.<br/></br><br/>\n",
    "•\t Start with your program from Q 4 (a). Add a print statement at the\n",
    "end of your program stating the name of the guest who can’t make it.<br/></br><br/>\n",
    "•\t Modify your list, replacing the name of the guest who can’t make it with\n",
    "the name of the new person you are inviting.<br/></br><br/>\n",
    "•\t Print a second set of invitation messages, one for each person who is still\n",
    "in your list.<br/></br><br/></h3>"
   ]
  },
  {
   "cell_type": "code",
   "execution_count": 104,
   "metadata": {},
   "outputs": [],
   "source": [
    "guest_not_come_index = invited_dinner_list.index(\"Sir Zia\")\n",
    "if guest_not_come_index != -1:\n",
    "    invited_dinner_list[guest_not_come_index] = \"Gazal Sir\" #remove sir zia and add gazal sir on same index or same position"
   ]
  },
  {
   "cell_type": "code",
   "execution_count": 105,
   "metadata": {},
   "outputs": [
    {
     "name": "stdout",
     "output_type": "stream",
     "text": [
      "I am very happy if you come to my dinner party Mr. Osama Friend\n",
      "I am very happy if you come to my dinner party Mr. Sir Zeeshan\n",
      "I am very happy if you come to my dinner party Mr. Noman Sir\n",
      "I am very happy if you come to my dinner party Mr. Sir Taha\n",
      "I am very happy if you come to my dinner party Mr. Sir Austin\n",
      "I am very happy if you come to my dinner party Mr. Sir Shariq\n",
      "I am very happy if you come to my dinner party Mr. Tuaha\n",
      "I am very happy if you come to my dinner party Mr. Gazal Sir\n"
     ]
    }
   ],
   "source": [
    "for invite in invited_dinner_list :\n",
    "    print(\"I am very happy if you come to my dinner party Mr.\",invite)"
   ]
  },
  {
   "cell_type": "code",
   "execution_count": 106,
   "metadata": {},
   "outputs": [
    {
     "name": "stdout",
     "output_type": "stream",
     "text": [
      "Sir Zia is very busy on day , he just inform me that he will not join us on dinner party, so i was replace Sir Zia With Gazal Sir\n"
     ]
    }
   ],
   "source": [
    "print(\"Sir Zia is very busy on day , he just inform me that he will not join us on dinner party, so i was replace Sir Zia With Gazal Sir\")"
   ]
  },
  {
   "cell_type": "markdown",
   "metadata": {},
   "source": [
    "<h3>Q 4 (c) : You just found a bigger dinner table, so now more space is\n",
    "available. Think of three more guests to invite to dinner.<br/></br><br/>\n",
    "•\t Start with your program from Q 4 (a) and (b) Add a print\n",
    "statement to the end of your program informing people that you found a\n",
    "bigger dinner table.<br/></br><br/>\n",
    "•\t Use insert() to add one new guest to the beginning of your list.<br/></br><br/>\n",
    "•\t Use insert() to add one new guest to the middle of your list.<br/></br><br/>\n",
    "•\t Use append() to add one new guest to the end of your list.<br/></br><br/>\n",
    "•\t Print a new set of invitation messages, one for each person in your list.<br/></br><br/></h3>"
   ]
  },
  {
   "cell_type": "code",
   "execution_count": 107,
   "metadata": {},
   "outputs": [],
   "source": [
    "invited_dinner_list.insert(0,\"Haider Ali\")"
   ]
  },
  {
   "cell_type": "code",
   "execution_count": 108,
   "metadata": {},
   "outputs": [],
   "source": [
    "count_list = int(len(invited_dinner_list)/2)\n",
    "invited_dinner_list.insert(count_list,\"Mavia\")"
   ]
  },
  {
   "cell_type": "code",
   "execution_count": 111,
   "metadata": {},
   "outputs": [],
   "source": [
    "invited_dinner_list.append(\"Arsalan\")"
   ]
  },
  {
   "cell_type": "code",
   "execution_count": 112,
   "metadata": {},
   "outputs": [
    {
     "name": "stdout",
     "output_type": "stream",
     "text": [
      "I am very happy if you come to my dinner party Mr. Haider Ali\n",
      "I am very happy if you come to my dinner party Mr. Osama Friend\n",
      "I am very happy if you come to my dinner party Mr. Sir Zeeshan\n",
      "I am very happy if you come to my dinner party Mr. Noman Sir\n",
      "I am very happy if you come to my dinner party Mr. Mavia\n",
      "I am very happy if you come to my dinner party Mr. Sir Taha\n",
      "I am very happy if you come to my dinner party Mr. Sir Austin\n",
      "I am very happy if you come to my dinner party Mr. Sir Shariq\n",
      "I am very happy if you come to my dinner party Mr. Tuaha\n",
      "I am very happy if you come to my dinner party Mr. Gazal Sir\n",
      "I am very happy if you come to my dinner party Mr. Arsalan\n",
      "I am very happy if you come to my dinner party Mr. Arsalan\n"
     ]
    }
   ],
   "source": [
    "for invite in invited_dinner_list :\n",
    "    print(\"I am very happy if you come to my dinner party Mr.\",invite)"
   ]
  },
  {
   "cell_type": "markdown",
   "metadata": {},
   "source": [
    "<h5> Q 5 : Here you have some data in variable below, your task is to make a list of specific word Surah then print the list and length of list</h5>\n"
   ]
  },
  {
   "cell_type": "code",
   "execution_count": 115,
   "metadata": {},
   "outputs": [],
   "source": [
    "data = \"Sura I Who believe in the Unseen, Sura Are steadfast in prayer, And spend Sura out of what We Have provided for them;\""
   ]
  },
  {
   "cell_type": "code",
   "execution_count": 116,
   "metadata": {},
   "outputs": [
    {
     "name": "stdout",
     "output_type": "stream",
     "text": [
      "This is list  ['Sura', 'I', 'Who', 'believe', 'in', 'the', 'Unseen,', 'Sura', 'Are', 'steadfast', 'in', 'prayer,', 'And', 'spend', 'Sura', 'out', 'of', 'what', 'We', 'Have', 'provided', 'for', 'them;']  and length of list is  23\n"
     ]
    }
   ],
   "source": [
    "sura_word_list = data.split(\" \")\n",
    "print(\"This is list \",sura_word_list,\" and length of list is \",len(sura_word_list))"
   ]
  },
  {
   "cell_type": "markdown",
   "metadata": {},
   "source": [
    " <h3>Q no 6 : You have some name of cities in list named cities, Your task is to check whether Karachi is present in this list or not, if present print the index where the value Karachi is present</h3>"
   ]
  },
  {
   "cell_type": "code",
   "execution_count": 120,
   "metadata": {},
   "outputs": [],
   "source": [
    "cities = [\"Islamabad\",\"Peshawar\",\"Karachi\"]"
   ]
  },
  {
   "cell_type": "code",
   "execution_count": 121,
   "metadata": {},
   "outputs": [],
   "source": [
    "karachi_index = cities.index(\"Karachi\")"
   ]
  },
  {
   "cell_type": "code",
   "execution_count": 122,
   "metadata": {},
   "outputs": [
    {
     "name": "stdout",
     "output_type": "stream",
     "text": [
      "This is index of karachi in the list  2\n"
     ]
    }
   ],
   "source": [
    "if karachi_index != -1:\n",
    "    print(\"This is index of karachi in the list \",karachi_index)"
   ]
  }
 ],
 "metadata": {
  "kernelspec": {
   "display_name": "Python 3",
   "language": "python",
   "name": "python3"
  },
  "language_info": {
   "codemirror_mode": {
    "name": "ipython",
    "version": 3
   },
   "file_extension": ".py",
   "mimetype": "text/x-python",
   "name": "python",
   "nbconvert_exporter": "python",
   "pygments_lexer": "ipython3",
   "version": "3.7.3"
  }
 },
 "nbformat": 4,
 "nbformat_minor": 2
}
